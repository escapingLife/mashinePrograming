{
  "nbformat": 4,
  "nbformat_minor": 0,
  "metadata": {
    "colab": {
      "provenance": [],
      "gpuType": "T4",
      "mount_file_id": "10ay2tBIxXY-NkxF1LH8EjYjlEEPYbrlv",
      "authorship_tag": "ABX9TyPrThx+iaXQtrOCiTaFO1/t",
      "include_colab_link": true
    },
    "kernelspec": {
      "name": "python3",
      "display_name": "Python 3"
    },
    "language_info": {
      "name": "python"
    },
    "accelerator": "GPU"
  },
  "cells": [
    {
      "cell_type": "markdown",
      "metadata": {
        "id": "view-in-github",
        "colab_type": "text"
      },
      "source": [
        "<a href=\"https://colab.research.google.com/github/escapingLife/mashinePrograming/blob/master/7%EC%A3%BC%EC%B0%A8/CIFAR_10_classification_in_3.ipynb\" target=\"_parent\"><img src=\"https://colab.research.google.com/assets/colab-badge.svg\" alt=\"Open In Colab\"/></a>"
      ]
    },
    {
      "cell_type": "code",
      "execution_count": 2,
      "metadata": {
        "id": "XU4C-lnM6ycD"
      },
      "outputs": [],
      "source": [
        "import numpy as np\n",
        "\n",
        "import tensorflow as tf\n",
        "from tensorflow.keras import layers, models\n",
        "import numpy as np\n",
        "import os\n",
        "\n",
        "# ========================================\n",
        "# CIFAR-10 데이터를 저장할 경로\n",
        "# ========================================\n",
        "DATA_DIR = '/content/drive/MyDrive/Colab Notebooks/cifar10_data'"
      ]
    },
    {
      "cell_type": "code",
      "source": [
        "# 데이터 디렉토리 생성\n",
        "os.makedirs(DATA_DIR, exist_ok=True)\n",
        "\n",
        "# --- CIFAR-10 로드 (자동으로 캐싱) ---\n",
        "# Keras는 기본적으로 ~/.keras/datasets에 저장하지만,\n",
        "# 명시적으로 경로를 지정하려면 아래와 같이 처리\n",
        "cifar10_path = os.path.join(DATA_DIR,'cifar-10-batches-py')\n",
        "\n",
        "if os.path.exists(cifar10_path):\n",
        "    print(f\"✓ 기존 데이터 발견: {cifar10_path}\")\n",
        "    print(\"저장된 데이터를 로드합니다...\")\n",
        "else:\n",
        "    print(f\"데이터가 없습니다. {DATA_DIR}에 다운로드합니다...\")\n",
        "\n",
        "# 데이터 로드 (없으면 자동 다운로드 후 캐싱)\n",
        "(x_train, y_train),(x_test, y_test) = tf.keras.datasets.cifar10.load_data()\n",
        "\n",
        "print(f\"✓ 데이터 로드 완료\")\n",
        "print(f\"  - 학습 데이터: {x_train.shape}\")\n",
        "print(f\"  - 테스트 데이터: {x_test.shape}\\n\")"
      ],
      "metadata": {
        "colab": {
          "base_uri": "https://localhost:8080/"
        },
        "id": "DM-0e_GgePfl",
        "outputId": "ba509bbf-fe3b-4f1e-c09d-e72b8f927853"
      },
      "execution_count": 3,
      "outputs": [
        {
          "output_type": "stream",
          "name": "stdout",
          "text": [
            "데이터가 없습니다. /content/drive/MyDrive/Colab Notebooks/cifar10_data에 다운로드합니다...\n",
            "Downloading data from https://www.cs.toronto.edu/~kriz/cifar-10-python.tar.gz\n",
            "\u001b[1m170498071/170498071\u001b[0m \u001b[32m━━━━━━━━━━━━━━━━━━━━\u001b[0m\u001b[37m\u001b[0m \u001b[1m4s\u001b[0m 0us/step\n",
            "✓ 데이터 로드 완료\n",
            "  - 학습 데이터: (50000, 32, 32, 3)\n",
            "  - 테스트 데이터: (10000, 32, 32, 3)\n",
            "\n"
          ]
        }
      ]
    },
    {
      "cell_type": "code",
      "source": [
        "# 클래스 이름 정의\n",
        "class_names = ['airplane','automobile','bird','cat','deer',\n",
        "               'dog','frog','horse','ship','truck']\n",
        "\n",
        "# 사용할 클래스 선택\n",
        "selected_classes = ['cat','dog','horse']\n",
        "selected_idx = [class_names.index(c)for c in selected_classes]"
      ],
      "metadata": {
        "id": "bRRjgB47eei-"
      },
      "execution_count": 4,
      "outputs": []
    },
    {
      "cell_type": "code",
      "source": [
        "# --- 해당 클래스만 필터링 ---\n",
        "train_mask = np.isin(y_train, selected_idx).flatten()\n",
        "test_mask = np.isin(y_test, selected_idx).flatten()"
      ],
      "metadata": {
        "id": "JpythmxCehq-"
      },
      "execution_count": 5,
      "outputs": []
    },
    {
      "cell_type": "code",
      "source": [
        "x_train, y_train = x_train[train_mask], y_train[train_mask]\n",
        "x_test, y_test = x_test[test_mask], y_test[test_mask]\n",
        "\n",
        "print(f\"선택된 클래스: {selected_classes}\")\n",
        "print(f\"  - 학습 샘플 수: {len(x_train)}\")\n",
        "print(f\"  - 테스트 샘플 수: {len(x_test)}\\n\")"
      ],
      "metadata": {
        "colab": {
          "base_uri": "https://localhost:8080/"
        },
        "id": "em_tPbMOelJw",
        "outputId": "73093a54-e98d-4520-9e23-e1e8faec5c30"
      },
      "execution_count": 6,
      "outputs": [
        {
          "output_type": "stream",
          "name": "stdout",
          "text": [
            "선택된 클래스: ['cat', 'dog', 'horse']\n",
            "  - 학습 샘플 수: 15000\n",
            "  - 테스트 샘플 수: 3000\n",
            "\n"
          ]
        }
      ]
    },
    {
      "cell_type": "code",
      "source": [
        "# 라벨을 0~2로 다시 매핑\n",
        "label_map = {v: i for i, v in enumerate(selected_idx)}\n",
        "y_train = np.array([label_map[int(y)]for y in y_train])\n",
        "y_test = np.array([label_map[int(y)]for y in y_test])"
      ],
      "metadata": {
        "colab": {
          "base_uri": "https://localhost:8080/"
        },
        "id": "svEDwUTOfIJr",
        "outputId": "62091b01-e58c-4884-ecce-50de9d0f3699"
      },
      "execution_count": 7,
      "outputs": [
        {
          "output_type": "stream",
          "name": "stderr",
          "text": [
            "/tmp/ipython-input-2451507799.py:3: DeprecationWarning: Conversion of an array with ndim > 0 to a scalar is deprecated, and will error in future. Ensure you extract a single element from your array before performing this operation. (Deprecated NumPy 1.25.)\n",
            "  y_train = np.array([label_map[int(y)]for y in y_train])\n",
            "/tmp/ipython-input-2451507799.py:4: DeprecationWarning: Conversion of an array with ndim > 0 to a scalar is deprecated, and will error in future. Ensure you extract a single element from your array before performing this operation. (Deprecated NumPy 1.25.)\n",
            "  y_test = np.array([label_map[int(y)]for y in y_test])\n"
          ]
        }
      ]
    },
    {
      "cell_type": "code",
      "source": [
        "# 정규화\n",
        "x_train, x_test = x_train / 255.0, x_test / 255.0"
      ],
      "metadata": {
        "id": "gQBST9TIfVMo"
      },
      "execution_count": 8,
      "outputs": []
    },
    {
      "cell_type": "code",
      "source": [
        "from tensorflow.keras.preprocessing.image import ImageDataGenerator\n",
        "\n",
        "# -----------------------------\n",
        "# 2. 데이터 증강 (Data Augmentation)\n",
        "# -----------------------------\n",
        "datagen = ImageDataGenerator(\n",
        "    rotation_range=20,\n",
        "    width_shift_range=0.1,\n",
        "    height_shift_range=0.1,\n",
        "    horizontal_flip=True,\n",
        "    zoom_range=0.1\n",
        ")\n",
        "datagen.fit(x_train)"
      ],
      "metadata": {
        "id": "LB-C_tO0i7uY"
      },
      "execution_count": 23,
      "outputs": []
    },
    {
      "cell_type": "code",
      "source": [
        "# -----------------------------\n",
        "# 3. CNN 모델 정의\n",
        "# -----------------------------\n",
        "model = models.Sequential([\n",
        "    layers.Conv2D(32, (3,3), activation='relu', padding='same', input_shape=(32,32,3)),\n",
        "    layers.BatchNormalization(),\n",
        "    layers.Conv2D(32, (3,3), activation='relu', padding='same'),\n",
        "    layers.MaxPooling2D((2,2)),\n",
        "    layers.Dropout(0.25),\n",
        "\n",
        "    layers.Conv2D(64, (3,3), activation='relu', padding='same'),\n",
        "    layers.BatchNormalization(),\n",
        "    layers.Conv2D(64, (3,3), activation='relu', padding='same'),\n",
        "    layers.MaxPooling2D((2,2)),\n",
        "    layers.Dropout(0.35),\n",
        "\n",
        "    layers.Flatten(),\n",
        "    layers.Dense(128, activation='relu'),\n",
        "    layers.BatchNormalization(),\n",
        "    layers.Dropout(0.5),\n",
        "    layers.Dense(3, activation='softmax')  # 3개 클래스\n",
        "])\n"
      ],
      "metadata": {
        "id": "sB01uESFftHA"
      },
      "execution_count": 25,
      "outputs": []
    },
    {
      "cell_type": "code",
      "source": [
        "# ========================================\n",
        "# 4. 모델 컴파일\n",
        "# ========================================\n",
        "model.compile(\n",
        "    optimizer='adam',\n",
        "    loss='sparse_categorical_crossentropy',  # y가 one-hot이 아니므로 sparse 사용\n",
        "    metrics=['accuracy']\n",
        ")"
      ],
      "metadata": {
        "id": "3RcC5Yh_fyTf"
      },
      "execution_count": 26,
      "outputs": []
    },
    {
      "cell_type": "code",
      "source": [
        "from tensorflow.keras.callbacks import EarlyStopping\n",
        "\n",
        "# -----------------------------\n",
        "# 5. EarlyStopping 설정\n",
        "# -----------------------------\n",
        "early_stop = EarlyStopping(monitor='val_loss', patience=5, restore_best_weights=True)"
      ],
      "metadata": {
        "id": "_E56oJ4HjScU"
      },
      "execution_count": 28,
      "outputs": []
    },
    {
      "cell_type": "code",
      "source": [
        "# ========================================\n",
        "# 6. 모델 학습\n",
        "# ========================================\n",
        "history = model.fit(\n",
        "    x_train, y_train,\n",
        "    validation_data=(x_test, y_test),\n",
        "    epochs=20,\n",
        "    batch_size=64,\n",
        "    verbose=2\n",
        ")"
      ],
      "metadata": {
        "colab": {
          "base_uri": "https://localhost:8080/"
        },
        "id": "AwG27zMdgC4e",
        "outputId": "6b3a2fa2-bf3e-4b93-8dc1-3e13c511d466"
      },
      "execution_count": 29,
      "outputs": [
        {
          "output_type": "stream",
          "name": "stdout",
          "text": [
            "Epoch 1/20\n",
            "235/235 - 15s - 64ms/step - accuracy: 0.5448 - loss: 1.0807 - val_accuracy: 0.3330 - val_loss: 1.4041\n",
            "Epoch 2/20\n",
            "235/235 - 2s - 7ms/step - accuracy: 0.6441 - loss: 0.7738 - val_accuracy: 0.4693 - val_loss: 1.1158\n",
            "Epoch 3/20\n",
            "235/235 - 2s - 7ms/step - accuracy: 0.6987 - loss: 0.6714 - val_accuracy: 0.6933 - val_loss: 0.6938\n",
            "Epoch 4/20\n",
            "235/235 - 2s - 8ms/step - accuracy: 0.7245 - loss: 0.6267 - val_accuracy: 0.7203 - val_loss: 0.6425\n",
            "Epoch 5/20\n",
            "235/235 - 2s - 8ms/step - accuracy: 0.7505 - loss: 0.5818 - val_accuracy: 0.7297 - val_loss: 0.6142\n",
            "Epoch 6/20\n",
            "235/235 - 2s - 8ms/step - accuracy: 0.7600 - loss: 0.5574 - val_accuracy: 0.7363 - val_loss: 0.6116\n",
            "Epoch 7/20\n",
            "235/235 - 2s - 7ms/step - accuracy: 0.7788 - loss: 0.5276 - val_accuracy: 0.7533 - val_loss: 0.5735\n",
            "Epoch 8/20\n",
            "235/235 - 2s - 7ms/step - accuracy: 0.7896 - loss: 0.5045 - val_accuracy: 0.7740 - val_loss: 0.5319\n",
            "Epoch 9/20\n",
            "235/235 - 2s - 7ms/step - accuracy: 0.8047 - loss: 0.4770 - val_accuracy: 0.7883 - val_loss: 0.4947\n",
            "Epoch 10/20\n",
            "235/235 - 2s - 7ms/step - accuracy: 0.8125 - loss: 0.4540 - val_accuracy: 0.7413 - val_loss: 0.6200\n",
            "Epoch 11/20\n",
            "235/235 - 2s - 7ms/step - accuracy: 0.8183 - loss: 0.4393 - val_accuracy: 0.7077 - val_loss: 0.7443\n",
            "Epoch 12/20\n",
            "235/235 - 2s - 8ms/step - accuracy: 0.8319 - loss: 0.4141 - val_accuracy: 0.7977 - val_loss: 0.4762\n",
            "Epoch 13/20\n",
            "235/235 - 2s - 8ms/step - accuracy: 0.8359 - loss: 0.4024 - val_accuracy: 0.7940 - val_loss: 0.4933\n",
            "Epoch 14/20\n",
            "235/235 - 2s - 7ms/step - accuracy: 0.8433 - loss: 0.3849 - val_accuracy: 0.7893 - val_loss: 0.4980\n",
            "Epoch 15/20\n",
            "235/235 - 2s - 7ms/step - accuracy: 0.8493 - loss: 0.3690 - val_accuracy: 0.7883 - val_loss: 0.5112\n",
            "Epoch 16/20\n",
            "235/235 - 2s - 7ms/step - accuracy: 0.8562 - loss: 0.3542 - val_accuracy: 0.7973 - val_loss: 0.5168\n",
            "Epoch 17/20\n",
            "235/235 - 2s - 7ms/step - accuracy: 0.8650 - loss: 0.3348 - val_accuracy: 0.8080 - val_loss: 0.4965\n",
            "Epoch 18/20\n",
            "235/235 - 2s - 7ms/step - accuracy: 0.8671 - loss: 0.3245 - val_accuracy: 0.8200 - val_loss: 0.4528\n",
            "Epoch 19/20\n",
            "235/235 - 2s - 8ms/step - accuracy: 0.8760 - loss: 0.3130 - val_accuracy: 0.8170 - val_loss: 0.4594\n",
            "Epoch 20/20\n",
            "235/235 - 2s - 8ms/step - accuracy: 0.8832 - loss: 0.2982 - val_accuracy: 0.8193 - val_loss: 0.4760\n"
          ]
        }
      ]
    },
    {
      "cell_type": "code",
      "source": [
        "# ========================================\n",
        "# 7. 모델 평가\n",
        "# ========================================\n",
        "test_loss, test_acc = model.evaluate(x_test, y_test, verbose=2)\n",
        "print(f\"\\n CNN Test Accuracy: {test_acc:.4f}\")"
      ],
      "metadata": {
        "colab": {
          "base_uri": "https://localhost:8080/"
        },
        "id": "FppV63dfhaZP",
        "outputId": "74ba2cad-a08b-436b-ac20-9f6ba7f7eb8a"
      },
      "execution_count": 30,
      "outputs": [
        {
          "output_type": "stream",
          "name": "stdout",
          "text": [
            "94/94 - 1s - 15ms/step - accuracy: 0.8193 - loss: 0.4760\n",
            "\n",
            " CNN Test Accuracy: 0.8193\n"
          ]
        }
      ]
    },
    {
      "cell_type": "code",
      "source": [
        "# ========================================\n",
        "# 8. 학습 결과 시각화\n",
        "# ========================================\n",
        "import matplotlib.pyplot as plt\n",
        "\n",
        "plt.figure(figsize=(12,5))\n",
        "plt.subplot(1,2,1)\n",
        "plt.plot(history.history['accuracy'], label='Train Acc')\n",
        "plt.plot(history.history['val_accuracy'], label='Val Acc')\n",
        "plt.legend()\n",
        "plt.title(\"Training vs Validation Accuracy\")\n",
        "\n",
        "plt.subplot(1,2,2)\n",
        "plt.plot(history.history['loss'], label='Train Loss')\n",
        "plt.plot(history.history['val_loss'], label='Val Loss')\n",
        "plt.legend()\n",
        "plt.title(\"Training vs Validation Loss\")\n",
        "\n",
        "plt.show()"
      ],
      "metadata": {
        "colab": {
          "base_uri": "https://localhost:8080/",
          "height": 382
        },
        "id": "PT4DRiXWhkXG",
        "outputId": "53711a2f-79cd-4198-d05c-f58f6e0e14b4"
      },
      "execution_count": 31,
      "outputs": [
        {
          "output_type": "display_data",
          "data": {
            "text/plain": [
              "<Figure size 1200x500 with 2 Axes>"
            ],
            "image/png": "[encoded data removed]"
          },
          "metadata": {}
        }
      ]
    }
  ]
}