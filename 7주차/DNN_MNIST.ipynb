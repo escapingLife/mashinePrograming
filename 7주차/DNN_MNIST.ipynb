{
  "nbformat": 4,
  "nbformat_minor": 0,
  "metadata": {
    "colab": {
      "provenance": [],
      "mount_file_id": "12Svcc_ZknKMPfhl-9nQuBww4WPpniOT7",
      "authorship_tag": "ABX9TyNZJp/Q00ZQkB8C/5WXo/uh",
      "include_colab_link": true
    },
    "kernelspec": {
      "name": "python3",
      "display_name": "Python 3"
    },
    "language_info": {
      "name": "python"
    }
  },
  "cells": [
    {
      "cell_type": "markdown",
      "metadata": {
        "id": "view-in-github",
        "colab_type": "text"
      },
      "source": [
        "<a href=\"https://colab.research.google.com/github/escapingLife/mashinePrograming/blob/master/7%EC%A3%BC%EC%B0%A8/DNN_MNIST.ipynb\" target=\"_parent\"><img src=\"https://colab.research.google.com/assets/colab-badge.svg\" alt=\"Open In Colab\"/></a>"
      ]
    },
    {
      "cell_type": "code",
      "execution_count": 7,
      "metadata": {
        "id": "7mZmzwvmi3g0"
      },
      "outputs": [],
      "source": [
        "import tensorflow as tf\n",
        "from tensorflow.keras import layers, models\n",
        "\n",
        "# Fashion MNIST 데이터 로드\n",
        "fashion_mnist = tf.keras.datasets.fashion_mnist\n",
        "(x_train, y_train), (x_test, y_test) = fashion_mnist.load_data()"
      ]
    },
    {
      "cell_type": "code",
      "source": [
        "# 정규화 (0~1)\n",
        "x_train = x_train / 255.0\n",
        "x_test = x_test / 255.0"
      ],
      "metadata": {
        "id": "EZ4EVCjQkuNJ"
      },
      "execution_count": 8,
      "outputs": []
    },
    {
      "cell_type": "code",
      "source": [
        "# DNN 모델 구성\n",
        "model_dnn = models.Sequential([\n",
        "    # 평탄화\n",
        "    layers.Flatten(input_shape=(28, 28)),\n",
        "    layers.Dense(256, activation='relu'),\n",
        "    # 과적합 방지용 코드\n",
        "    layers.Dropout(0.3),\n",
        "    layers.Dense(128, activation='relu'),\n",
        "    layers.Dropout(0.3),\n",
        "    # 의류 정보를 10개로 예측\n",
        "    layers.Dense(10, activation='softmax')\n",
        "])"
      ],
      "metadata": {
        "id": "HADGgzpvYqv9"
      },
      "execution_count": 9,
      "outputs": []
    },
    {
      "cell_type": "code",
      "source": [
        "# 컴파일\n",
        "# 가중치 업데이트 방법 설정\n",
        "model_dnn.compile(optimizer='adam',\n",
        "                  loss='sparse_categorical_crossentropy',\n",
        "                  metrics=['accuracy'])"
      ],
      "metadata": {
        "id": "qzloNuePYwBK"
      },
      "execution_count": 13,
      "outputs": []
    },
    {
      "cell_type": "code",
      "source": [
        "# 학습\n",
        "history_dnn = model_dnn.fit(x_train, y_train, epochs=10,\n",
        "                            validation_split=0.1, batch_size=128, verbose=2)"
      ],
      "metadata": {
        "colab": {
          "base_uri": "https://localhost:8080/"
        },
        "id": "S7p8Z-xlYyvB",
        "outputId": "8c9cfb66-906c-4437-c6ba-7e4c77640149"
      },
      "execution_count": 14,
      "outputs": [
        {
          "output_type": "stream",
          "name": "stdout",
          "text": [
            "Epoch 1/10\n",
            "422/422 - 5s - 12ms/step - accuracy: 0.7757 - loss: 0.6357 - val_accuracy: 0.8442 - val_loss: 0.4275\n",
            "Epoch 2/10\n",
            "422/422 - 7s - 16ms/step - accuracy: 0.8427 - loss: 0.4409 - val_accuracy: 0.8602 - val_loss: 0.3825\n",
            "Epoch 3/10\n",
            "422/422 - 4s - 9ms/step - accuracy: 0.8566 - loss: 0.3975 - val_accuracy: 0.8698 - val_loss: 0.3622\n",
            "Epoch 4/10\n",
            "422/422 - 4s - 9ms/step - accuracy: 0.8639 - loss: 0.3718 - val_accuracy: 0.8718 - val_loss: 0.3488\n",
            "Epoch 5/10\n",
            "422/422 - 5s - 12ms/step - accuracy: 0.8706 - loss: 0.3546 - val_accuracy: 0.8627 - val_loss: 0.3675\n",
            "Epoch 6/10\n",
            "422/422 - 4s - 10ms/step - accuracy: 0.8756 - loss: 0.3408 - val_accuracy: 0.8783 - val_loss: 0.3286\n",
            "Epoch 7/10\n",
            "422/422 - 4s - 9ms/step - accuracy: 0.8780 - loss: 0.3317 - val_accuracy: 0.8798 - val_loss: 0.3225\n",
            "Epoch 8/10\n",
            "422/422 - 4s - 9ms/step - accuracy: 0.8815 - loss: 0.3216 - val_accuracy: 0.8832 - val_loss: 0.3199\n",
            "Epoch 9/10\n",
            "422/422 - 5s - 13ms/step - accuracy: 0.8842 - loss: 0.3130 - val_accuracy: 0.8862 - val_loss: 0.3112\n",
            "Epoch 10/10\n",
            "422/422 - 4s - 9ms/step - accuracy: 0.8877 - loss: 0.3038 - val_accuracy: 0.8858 - val_loss: 0.3125\n"
          ]
        }
      ]
    },
    {
      "cell_type": "code",
      "source": [
        "# 평가\n",
        "# 학습하지 않은 데이터를 평가 데이터로 설정\n",
        "test_loss, test_acc = model_dnn.evaluate(x_test, y_test, verbose=2)\n",
        "print(f\"DNN Test Accuracy: {test_acc:.4f}\")\n"
      ],
      "metadata": {
        "colab": {
          "base_uri": "https://localhost:8080/"
        },
        "id": "-bydLoJeZCNo",
        "outputId": "6909cfa2-d7b5-48d7-ade1-ec6a12b31c76"
      },
      "execution_count": 15,
      "outputs": [
        {
          "output_type": "stream",
          "name": "stdout",
          "text": [
            "313/313 - 1s - 4ms/step - accuracy: 0.8789 - loss: 0.3388\n",
            "DNN Test Accuracy: 0.8789\n"
          ]
        }
      ]
    }
  ]
}